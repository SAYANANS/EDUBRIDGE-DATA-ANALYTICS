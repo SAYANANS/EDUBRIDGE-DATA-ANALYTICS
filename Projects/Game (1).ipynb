{
 "cells": [
  {
   "cell_type": "code",
   "execution_count": null,
   "id": "de9829b1",
   "metadata": {},
   "outputs": [
    {
     "name": "stdout",
     "output_type": "stream",
     "text": [
      "***Welcome to Quiz***\n",
      "1.what is the shape of a pyramid?\n",
      "2.what is the shape of a Dice?\n"
     ]
    }
   ],
   "source": [
    "class shapes:\n",
    "    def triangle(self,num):\n",
    "        self.num=8\n",
    "        for i in range(self.num):\n",
    "            for j in range(self.num-i-1):\n",
    "                print(\" \",end=\"\")\n",
    "            for j in range(i+1):\n",
    "                print(\"*\",end=\" \")\n",
    "            print()\n",
    "            \n",
    "    def square(self,num):\n",
    "        self.num=4\n",
    "        for i in range(self.num):\n",
    "            for j in range(self.num):\n",
    "                print(\"*\",end=\"\")\n",
    "            print()\n",
    "            \n",
    "\n",
    "print(\"***Welcome to Quiz***\")\n",
    "print(\"1.what is the shape of a pyramid?\")\n",
    "print(\"2.what is the shape of a Dice?\")\n",
    "            \n",
    "choice=int(input(\"Enter the choice\\n\"))\n",
    "        \n",
    "if choice == 1:\n",
    "    response=input(\"Enter your answer in uppercase \\n\")\n",
    "    if response=='TRIANGLE':\n",
    "        print(\"CONGRAGULATIONS! YOUR ANSWER IS CORRECT\")\n",
    "        num=shapes()\n",
    "        shapes().triangle(num)\n",
    "    else:\n",
    "        print(\"OOPS!YOUR ANSWER IS WRONG\")\n",
    "        print(\"Correct answer is TRIANGLE\")\n",
    "        num=shapes()\n",
    "        shapes().triangle(num)\n",
    "        \n",
    "             \n",
    "elif choice == 2:  \n",
    "    response=input(\"Enter your answer in uppercase \\n\")\n",
    "    if response=='SQUARE':\n",
    "        print(\"CONGRAGULATIONS! YOUR ANSWER IS CORRECT\")\n",
    "        num=shapes()\n",
    "        shapes().square(num)\n",
    "    else:\n",
    "        print(\"OOPS!YOUR ANSWER IS WRONG\")\n",
    "        print(\"Correct answer is SQUARE\")\n",
    "        num=shapes()\n",
    "        shapes().square(num)\n",
    "                \n",
    "else:\n",
    "    print(\"\"\"Invalid choice!\n",
    "Please enter the given choice\"\"\")\n",
    "    \n",
    "            "
   ]
  },
  {
   "cell_type": "code",
   "execution_count": null,
   "id": "60799624",
   "metadata": {},
   "outputs": [],
   "source": []
  }
 ],
 "metadata": {
  "kernelspec": {
   "display_name": "Python 3 (ipykernel)",
   "language": "python",
   "name": "python3"
  },
  "language_info": {
   "codemirror_mode": {
    "name": "ipython",
    "version": 3
   },
   "file_extension": ".py",
   "mimetype": "text/x-python",
   "name": "python",
   "nbconvert_exporter": "python",
   "pygments_lexer": "ipython3",
   "version": "3.9.7"
  }
 },
 "nbformat": 4,
 "nbformat_minor": 5
}
