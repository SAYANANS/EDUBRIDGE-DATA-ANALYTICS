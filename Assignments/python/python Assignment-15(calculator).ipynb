{
 "cells": [
  {
   "cell_type": "code",
   "execution_count": 1,
   "id": "cfd50292",
   "metadata": {},
   "outputs": [],
   "source": [
    "from tkinter import *"
   ]
  },
  {
   "cell_type": "code",
   "execution_count": 10,
   "id": "ae2c95b8",
   "metadata": {},
   "outputs": [],
   "source": [
    "window=Tk()\n",
    "window.title(\"calculator\")\n",
    "window.configure(bg=\"grey\")\n",
    "T=Entry(window,width=30,bd=3,font=(\"Arial,25\")).place(x=650,y=200)\n",
    "b=Button(window,text=\"7\",fg=\"black\",bg=\"white\",height=2,width=3,font=(\"calibri,15\")).place(x=650,y=300)\n",
    "b1=Button(window,text=\"8\",fg=\"black\",bg=\"white\",height=2,width=3,font=(\"calibri,15\")).place(x=750,y=300)\n",
    "b2=Button(window,text=\"9\",fg=\"black\",bg=\"white\",height=2,width=3,font=(\"calibri,15\")).place(x=850,y=300)\n",
    "b3=Button(window,text=\"x\",fg=\"red\",bg=\"white\",height=2,width=3,font=(\"calibri,15\")).place(x=950,y=300)\n",
    "b4=Button(window,text=\"4\",fg=\"black\",bg=\"white\",height=2,width=3,font=(\"calibri,15\")).place(x=650,y=400)\n",
    "b5=Button(window,text=\"5\",fg=\"black\",bg=\"white\",height=2,width=3,font=(\"calibri,15\")).place(x=750,y=400)\n",
    "b6=Button(window,text=\"6\",fg=\"black\",bg=\"white\",height=2,width=3,font=(\"calibri,15\")).place(x=850,y=400)\n",
    "b7=Button(window,text=\"-\",fg=\"red\",bg=\"white\",height=2,width=3,font=(\"calibri,15\")).place(x=950,y=400)\n",
    "b8=Button(window,text=\"1\",fg=\"black\",bg=\"white\",height=2,width=3,font=(\"calibri,15\")).place(x=650,y=500)\n",
    "b9=Button(window,text=\"2\",fg=\"black\",bg=\"white\",height=2,width=3,font=(\"calibri,15\")).place(x=750,y=500)\n",
    "b10=Button(window,text=\"3\",fg=\"black\",bg=\"white\",height=2,width=3,font=(\"calibri,15\")).place(x=850,y=500)\n",
    "b11=Button(window,text=\"+\",fg=\"red\",bg=\"white\",height=2,width=3,font=(\"calibri,15\")).place(x=950,y=500)\n",
    "b12=Button(window,text=\"clear\",fg=\"red\",bg=\"white\",height=2,width=4,font=(\"calibri,15\")).place(x=650,y=600)\n",
    "b13=Button(window,text=\"0\",fg=\"black\",bg=\"white\",height=2,width=3,font=(\"calibri,15\")).place(x=750,y=600)\n",
    "b14=Button(window,text=\"%\",fg=\"red\",bg=\"white\",height=2,width=3,font=(\"calibri,15\")).place(x=850,y=600)\n",
    "b15=Button(window,text=\"=\",fg=\"white\",bg=\"red\",height=2,width=3,font=(\"calibri,15\")).place(x=950,y=600)\n",
    "window.mainloop()"
   ]
  },
  {
   "cell_type": "code",
   "execution_count": null,
   "id": "889e40f5",
   "metadata": {},
   "outputs": [],
   "source": []
  }
 ],
 "metadata": {
  "kernelspec": {
   "display_name": "Python 3 (ipykernel)",
   "language": "python",
   "name": "python3"
  },
  "language_info": {
   "codemirror_mode": {
    "name": "ipython",
    "version": 3
   },
   "file_extension": ".py",
   "mimetype": "text/x-python",
   "name": "python",
   "nbconvert_exporter": "python",
   "pygments_lexer": "ipython3",
   "version": "3.9.7"
  }
 },
 "nbformat": 4,
 "nbformat_minor": 5
}
