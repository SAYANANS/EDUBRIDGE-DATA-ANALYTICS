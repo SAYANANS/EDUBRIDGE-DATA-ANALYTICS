{
 "cells": [
  {
   "cell_type": "code",
   "execution_count": 11,
   "id": "f13bc2d8",
   "metadata": {},
   "outputs": [],
   "source": [
    "#conversion of kilometer to meter\n",
    "from tkinter import *\n",
    "def convert():\n",
    "    result=int(e1.get())*(1000)\n",
    "    myText.set(result)\n",
    "\n",
    "window=Tk()\n",
    "myText=StringVar()\n",
    "Label(window,text=\"kilometer\",bg=\"black\",fg=\"white\",font=(\"calibri\",15)).place(x=100,y=50)\n",
    "Label(window,text=\"Meter\",bg=\"pink\",font=(\"calibri\",15)).place(x=100,y=100)\n",
    "result=Label(window,text=\" \",textvariable=myText).place(x=200,y=100)\n",
    "\n",
    "e1=Entry(window)\n",
    "e1.place(x=200,y=50)\n",
    "b=Button(window,text=\"click\",command=convert,bg=\"red\",fg=\"white\",width=5)\n",
    "b.place(x=250,y=150)\n",
    "window.mainloop()"
   ]
  },
  {
   "cell_type": "code",
   "execution_count": null,
   "id": "60fbe521",
   "metadata": {},
   "outputs": [],
   "source": []
  }
 ],
 "metadata": {
  "kernelspec": {
   "display_name": "Python 3 (ipykernel)",
   "language": "python",
   "name": "python3"
  },
  "language_info": {
   "codemirror_mode": {
    "name": "ipython",
    "version": 3
   },
   "file_extension": ".py",
   "mimetype": "text/x-python",
   "name": "python",
   "nbconvert_exporter": "python",
   "pygments_lexer": "ipython3",
   "version": "3.9.7"
  }
 },
 "nbformat": 4,
 "nbformat_minor": 5
}
