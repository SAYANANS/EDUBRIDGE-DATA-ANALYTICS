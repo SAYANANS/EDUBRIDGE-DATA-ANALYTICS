{
 "cells": [
  {
   "cell_type": "markdown",
   "id": "2edf9b1c",
   "metadata": {},
   "source": [
    "## Write a python class named Circle constructed by a radius and two methods which will compute the area and the perimeter of a circle"
   ]
  },
  {
   "cell_type": "code",
   "execution_count": 2,
   "id": "db80fb6e",
   "metadata": {},
   "outputs": [
    {
     "name": "stdout",
     "output_type": "stream",
     "text": [
      "50.24\n",
      "25.12\n"
     ]
    }
   ],
   "source": [
    "class circle:\n",
    "    def __init__(self,radius):\n",
    "        self.radius=radius\n",
    "    def area(self):\n",
    "        area=3.14*self.radius**2\n",
    "        print(area)\n",
    "    def perimeter(self):\n",
    "        perimeter=2*3.14*self.radius\n",
    "        print(perimeter)\n",
    "        \n",
    "r=circle(4)\n",
    "r.area()\n",
    "r.perimeter()"
   ]
  },
  {
   "cell_type": "markdown",
   "id": "b22e1d00",
   "metadata": {},
   "source": [
    "## Write a python class named Rectangle constructed by a length and width and a method which will compute the area of a rectangle"
   ]
  },
  {
   "cell_type": "code",
   "execution_count": 4,
   "id": "64d8af0e",
   "metadata": {},
   "outputs": [
    {
     "name": "stdout",
     "output_type": "stream",
     "text": [
      "20\n"
     ]
    }
   ],
   "source": [
    "class Rectangle:\n",
    "    def __init__(self,length,width):\n",
    "        self.length=length\n",
    "        self.width=width\n",
    "    def area(self):\n",
    "        area=self.width*self.length\n",
    "        print(area)\n",
    "        \n",
    "measure=Rectangle(5,4)\n",
    "measure.area()"
   ]
  },
  {
   "cell_type": "markdown",
   "id": "c0f14092",
   "metadata": {},
   "source": [
    "## Write a python class which has two methods get_String and print_string.get_string accept a string from the user and print_string print the string in uppercase"
   ]
  },
  {
   "cell_type": "code",
   "execution_count": 12,
   "id": "dc47c270",
   "metadata": {},
   "outputs": [
    {
     "name": "stdout",
     "output_type": "stream",
     "text": [
      "enter the string apple\n",
      "APPLE\n"
     ]
    }
   ],
   "source": [
    "class string:\n",
    "    def get_string(self):\n",
    "        self.string=input(\"enter the string \")\n",
    "    def print_string(self):\n",
    "        str=self.string.upper()\n",
    "        print(str)\n",
    "        \n",
    "s=string()\n",
    "s.get_string()\n",
    "s.print_string()"
   ]
  }
 ],
 "metadata": {
  "kernelspec": {
   "display_name": "Python 3 (ipykernel)",
   "language": "python",
   "name": "python3"
  },
  "language_info": {
   "codemirror_mode": {
    "name": "ipython",
    "version": 3
   },
   "file_extension": ".py",
   "mimetype": "text/x-python",
   "name": "python",
   "nbconvert_exporter": "python",
   "pygments_lexer": "ipython3",
   "version": "3.9.7"
  }
 },
 "nbformat": 4,
 "nbformat_minor": 5
}
