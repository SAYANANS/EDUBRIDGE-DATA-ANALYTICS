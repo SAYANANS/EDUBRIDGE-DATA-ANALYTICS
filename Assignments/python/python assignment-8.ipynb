{
 "cells": [
  {
   "cell_type": "markdown",
   "id": "57be1c10",
   "metadata": {},
   "source": [
    "## sort a dictionary by value"
   ]
  },
  {
   "cell_type": "code",
   "execution_count": 1,
   "id": "54708d58",
   "metadata": {},
   "outputs": [
    {
     "name": "stdout",
     "output_type": "stream",
     "text": [
      "{'Kane': 43, 'Tina': 54, 'Tom': 67, 'Divya': 73, 'Akbar': 87}\n"
     ]
    }
   ],
   "source": [
    "markdict = {\"Tom\":67, \"Tina\": 54, \"Akbar\": 87, \"Kane\": 43, \"Divya\":73}\n",
    "marklist = sorted(markdict.items(), key=lambda x:x[1])\n",
    "sortdict = dict(marklist)\n",
    "print(sortdict)"
   ]
  },
  {
   "cell_type": "markdown",
   "id": "6bb6ae1d",
   "metadata": {},
   "source": [
    "## Add a key to the dictionary"
   ]
  },
  {
   "cell_type": "code",
   "execution_count": 4,
   "id": "94d1dde7",
   "metadata": {},
   "outputs": [
    {
     "name": "stdout",
     "output_type": "stream",
     "text": [
      "Current Dict is:  {1: 'geeks', 2: 'fill_me'}\n",
      "Updated Dict is:  {1: 'geeks', 2: 'fill_me', 3: 'geeks'}\n"
     ]
    }
   ],
   "source": [
    "dict = {1:'geeks', 2:'fill_me'}\n",
    "print(\"Current Dict is: \", dict)\n",
    "dict[3] = 'geeks'\n",
    "print(\"Updated Dict is: \", dict)"
   ]
  },
  {
   "cell_type": "code",
   "execution_count": null,
   "id": "0b5e9733",
   "metadata": {},
   "outputs": [],
   "source": []
  }
 ],
 "metadata": {
  "kernelspec": {
   "display_name": "Python 3 (ipykernel)",
   "language": "python",
   "name": "python3"
  },
  "language_info": {
   "codemirror_mode": {
    "name": "ipython",
    "version": 3
   },
   "file_extension": ".py",
   "mimetype": "text/x-python",
   "name": "python",
   "nbconvert_exporter": "python",
   "pygments_lexer": "ipython3",
   "version": "3.9.7"
  }
 },
 "nbformat": 4,
 "nbformat_minor": 5
}
