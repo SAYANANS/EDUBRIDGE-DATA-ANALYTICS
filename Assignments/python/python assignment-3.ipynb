{
 "cells": [
  {
   "cell_type": "markdown",
   "id": "170c064c",
   "metadata": {},
   "source": [
    "# program to check whether a given year is leap year or not"
   ]
  },
  {
   "cell_type": "code",
   "execution_count": 12,
   "id": "97f01c8f",
   "metadata": {},
   "outputs": [
    {
     "name": "stdout",
     "output_type": "stream",
     "text": [
      "Enter the year2004\n",
      "not leap year\n"
     ]
    }
   ],
   "source": [
    "year=int(input(\"Enter the year\"))\n",
    "if(year%4==0) and (year%100==0):\n",
    "    print(\"leap year\")\n",
    "else:\n",
    "    print(\"not leap year\")"
   ]
  },
  {
   "cell_type": "markdown",
   "id": "e08e6d2f",
   "metadata": {},
   "source": [
    "## program to print the respective day according to number 1 to 7"
   ]
  },
  {
   "cell_type": "code",
   "execution_count": 13,
   "id": "22b54e79",
   "metadata": {},
   "outputs": [
    {
     "name": "stdout",
     "output_type": "stream",
     "text": [
      "enter the number6\n",
      "friday\n"
     ]
    }
   ],
   "source": [
    "day=int(input(\"enter the number\"))\n",
    "if day==1:\n",
    "    print(\"sunday\")\n",
    "elif day==2:\n",
    "    print(\"monday\")\n",
    "elif day==3:\n",
    "    print(\"tuesday\") \n",
    "elif day==4:\n",
    "    print(\"wednesday\")\n",
    "elif day==5:\n",
    "    print(\"thursday\")    \n",
    "elif day==6:\n",
    "    print(\"friday\")\n",
    "elif day==7:\n",
    "    print(\"saturday\") \n",
    "else:\n",
    "    print(\"please enter the weekday between 1 to 7\")\n",
    "    \n",
    "    \n",
    "    "
   ]
  },
  {
   "cell_type": "markdown",
   "id": "faabf988",
   "metadata": {},
   "source": [
    "## program to print the grade of student"
   ]
  },
  {
   "cell_type": "code",
   "execution_count": 14,
   "id": "ec1962f2",
   "metadata": {},
   "outputs": [
    {
     "name": "stdout",
     "output_type": "stream",
     "text": [
      "enter the mark49\n",
      "FAIL\n"
     ]
    }
   ],
   "source": [
    "mark=int(input(\"enter the mark\"))\n",
    "if mark>90:\n",
    "    print(\"A GRADE\")\n",
    "elif mark>75:\n",
    "    print(\"B GRADE\")\n",
    "elif mark>65:\n",
    "    print(\"C GRADE\")\n",
    "elif mark>50:\n",
    "    print(\"D GRADE\")\n",
    "else:\n",
    "    print(\"FAIL\")\n",
    "    \n",
    "    "
   ]
  },
  {
   "cell_type": "markdown",
   "id": "c8955d92",
   "metadata": {},
   "source": [
    "## program to print the three numbers in ascending order"
   ]
  },
  {
   "cell_type": "code",
   "execution_count": 22,
   "id": "cab346a2",
   "metadata": {},
   "outputs": [
    {
     "name": "stdout",
     "output_type": "stream",
     "text": [
      "Enter the first number6\n",
      "Enter the second number5\n",
      "Enter the third number8\n",
      "numbers in ascending order: 5 6 8\n"
     ]
    }
   ],
   "source": [
    "num1=int(input(\"Enter the first number\"))\n",
    "num2=int(input(\"Enter the second number\"))\n",
    "num3=int(input(\"Enter the third number\"))\n",
    "if num1<num2 and num1<num3:\n",
    "    if num2<num3:\n",
    "        x,y,z=num1,num2,num3\n",
    "    else:\n",
    "        x,y,z=num1,num3,num2\n",
    "elif num2<num1 and num2<num3:\n",
    "    if num3>num1:\n",
    "        x,y,z=num2,num1,num3\n",
    "    else:\n",
    "        x,y,z=num2,num3,num1\n",
    "else:\n",
    "    if num1<num2:\n",
    "        x,y,z=num3,num1,num2\n",
    "    else:\n",
    "        x,y,z=num3,num2,num1\n",
    "print(\"numbers in ascending order:\" ,x,y,z)        \n",
    "        \n",
    "            \n",
    "            \n"
   ]
  },
  {
   "cell_type": "markdown",
   "id": "521ab594",
   "metadata": {},
   "source": [
    "## write a program to create a calculator"
   ]
  },
  {
   "cell_type": "code",
   "execution_count": 3,
   "id": "e8e08b4b",
   "metadata": {},
   "outputs": [
    {
     "name": "stdout",
     "output_type": "stream",
     "text": [
      "\n",
      "please select the type of operation you want to perform:\n",
      "+ for addition\n",
      "- for substraction\n",
      "* for multiplication\n",
      "/ for division\n",
      "/\n",
      "ENTER THE FIRST NUMBER\n",
      "10\n",
      "ENTER THE SECOND NUMBER\n",
      "2\n",
      "10 / 2=\n",
      "5.0\n"
     ]
    }
   ],
   "source": [
    "choice=input('''\n",
    "please select the type of operation you want to perform:\n",
    "+ for addition\n",
    "- for substraction\n",
    "* for multiplication\n",
    "/ for division\n",
    "''')\n",
    "num1=int(input(\"ENTER THE FIRST NUMBER\\n\"))\n",
    "num2=int(input(\"ENTER THE SECOND NUMBER\\n\"))\n",
    "if choice == '+':\n",
    "    print('{} + {} ='.format(num1,num2))\n",
    "    print(num1 + num2)\n",
    "elif choice == '-':\n",
    "    print('{} - {} ='.format(num1,num2))\n",
    "    print(num1 - num2)\n",
    "elif choice == '*':\n",
    "    print('{} * {} ='.format(num1,num2))\n",
    "    print(num1 * num2)\n",
    "elif choice == '/':\n",
    "    print('{} / {}='.format(num1,num2))\n",
    "    print(num1 / num2)\n",
    "else:    \n",
    "    print('Enter a valid operator')"
   ]
  },
  {
   "cell_type": "markdown",
   "id": "40ae5b4b",
   "metadata": {},
   "source": [
    "## write a program to print the respective month according to number 1 to 12"
   ]
  },
  {
   "cell_type": "code",
   "execution_count": 8,
   "id": "2e4f107c",
   "metadata": {},
   "outputs": [
    {
     "name": "stdout",
     "output_type": "stream",
     "text": [
      "enter the number13\n",
      "enter a valid number\n"
     ]
    }
   ],
   "source": [
    "num=int(input(\"enter the number\"))\n",
    "if num==1:\n",
    "    print(\"january\")\n",
    "elif num==2:\n",
    "    print(\"february\")\n",
    "elif num==3:\n",
    "    print(\"march\")\n",
    "elif num==4:\n",
    "    print(\"april\")\n",
    "elif num==5:\n",
    "    print(\"may\")\n",
    "elif num==6:\n",
    "    print(\"june\")\n",
    "elif num==7:\n",
    "    print(\"july\")\n",
    "elif num==8:\n",
    "    print(\"august\")\n",
    "elif num==9:\n",
    "    print(\"september\")\n",
    "elif num==10:\n",
    "    print(\"october\")\n",
    "elif num==11:\n",
    "    print(\"november\")\n",
    "elif num==12:\n",
    "    print(\"december\")\n",
    "else:\n",
    "    print(\"enter a valid number\")\n",
    "        "
   ]
  },
  {
   "cell_type": "markdown",
   "id": "84a95d69",
   "metadata": {},
   "source": [
    "## write a program to print greatest number between three numbers"
   ]
  },
  {
   "cell_type": "code",
   "execution_count": 10,
   "id": "c7865048",
   "metadata": {},
   "outputs": [
    {
     "name": "stdout",
     "output_type": "stream",
     "text": [
      "enter the first number 4\n",
      "enter the second number 3\n",
      "enter the third number 1\n",
      "The greatest number is 4\n"
     ]
    }
   ],
   "source": [
    "num1=int(input(\"enter the first number \"))\n",
    "num2=int(input(\"enter the second number \"))\n",
    "num3=int(input(\"enter the third number \"))\n",
    "if num1>=num2 and num1>=num3:\n",
    "    print(\"The greatest number is\" ,num1)\n",
    "elif num2>=num1 and num2>=num3:\n",
    "    print(\"The greatest number is\" ,num2)\n",
    "else:\n",
    "    print(\"The greatest number is\" ,num3)"
   ]
  },
  {
   "cell_type": "markdown",
   "id": "c5dea693",
   "metadata": {},
   "source": [
    "## Write a program to print smallest number between the numbers"
   ]
  },
  {
   "cell_type": "code",
   "execution_count": 12,
   "id": "a8147598",
   "metadata": {},
   "outputs": [
    {
     "name": "stdout",
     "output_type": "stream",
     "text": [
      "enter the first number 20\n",
      "enter the second number 2\n",
      "enter the third number 20\n",
      "The smallest number is 2\n"
     ]
    }
   ],
   "source": [
    "num1=int(input(\"enter the first number \"))\n",
    "num2=int(input(\"enter the second number \"))\n",
    "num3=int(input(\"enter the third number \"))\n",
    "if num1<=num2 and num1<=num3:\n",
    "    print(\"The smallest number is\" ,num1)\n",
    "elif num2<=num1 and num2<=num3:\n",
    "    print(\"The smallest number is\" ,num2)\n",
    "else:\n",
    "    print(\"The smallest number is\" ,num3)"
   ]
  },
  {
   "cell_type": "code",
   "execution_count": null,
   "id": "5c8188f7",
   "metadata": {},
   "outputs": [],
   "source": []
  }
 ],
 "metadata": {
  "kernelspec": {
   "display_name": "Python 3 (ipykernel)",
   "language": "python",
   "name": "python3"
  },
  "language_info": {
   "codemirror_mode": {
    "name": "ipython",
    "version": 3
   },
   "file_extension": ".py",
   "mimetype": "text/x-python",
   "name": "python",
   "nbconvert_exporter": "python",
   "pygments_lexer": "ipython3",
   "version": "3.9.7"
  }
 },
 "nbformat": 4,
 "nbformat_minor": 5
}
