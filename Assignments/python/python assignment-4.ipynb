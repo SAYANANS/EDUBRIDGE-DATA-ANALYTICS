{
 "cells": [
  {
   "cell_type": "markdown",
   "id": "bfbe1dec",
   "metadata": {},
   "source": [
    "## program to find the roots of quadratic equation"
   ]
  },
  {
   "cell_type": "code",
   "execution_count": 2,
   "id": "ab4af2ed",
   "metadata": {},
   "outputs": [
    {
     "name": "stdout",
     "output_type": "stream",
     "text": [
      "enter the coefficient a 4\n",
      "enter the coefficient b 8\n",
      "enter the coefficient c 2\n",
      "Roots are real and unequal -0.2928932188134524 and -1.7071067811865475\n"
     ]
    }
   ],
   "source": [
    "import math\n",
    "a=float(input(\"enter the coefficient a \"))\n",
    "b=float(input(\"enter the coefficient b \"))\n",
    "c=float(input(\"enter the coefficient c \"))\n",
    "d=b*b-4*a*c;\n",
    "if d>0:\n",
    "    r1=(-b+math.sqrt(d))/(2*a)\n",
    "    r2=(-b-math.sqrt(d))/(2*a)\n",
    "    print(\"Roots are real and unequal\",r1,\"and\",r2)\n",
    "elif d==0:\n",
    "    r1=-b/(2*a)\n",
    "    print(\"Roots are real and same\",r1)\n",
    "else:\n",
    "    print(\"NO real roots are there\")\n",
    "\n",
    "\n"
   ]
  },
  {
   "cell_type": "markdown",
   "id": "2a9d4184",
   "metadata": {},
   "source": [
    "## program to check a given number is prime or not"
   ]
  },
  {
   "cell_type": "code",
   "execution_count": 9,
   "id": "bc1f4e0e",
   "metadata": {},
   "outputs": [
    {
     "name": "stdout",
     "output_type": "stream",
     "text": [
      "Enter a number 5\n",
      "5 is a prime number\n"
     ]
    }
   ],
   "source": [
    "a=int(input(\"Enter a number \"))\n",
    "if(a>1):\n",
    "    for i in range(2,a):\n",
    "        if(a%i==0):\n",
    "            print(a,\"is not a prime number\")\n",
    "            break\n",
    "        else:\n",
    "            print(a,\"is a prime number\")\n",
    "            break\n",
    "else:\n",
    "    print(a,\"is not a prime number\")\n",
    "            \n",
    "            \n",
    "            "
   ]
  },
  {
   "cell_type": "markdown",
   "id": "70112cd0",
   "metadata": {},
   "source": [
    "## program to print fibonacci series"
   ]
  },
  {
   "cell_type": "code",
   "execution_count": 10,
   "id": "80e68933",
   "metadata": {},
   "outputs": [
    {
     "name": "stdout",
     "output_type": "stream",
     "text": [
      "enter how many numbers you want in series5\n",
      "0\n",
      "1\n",
      "1\n",
      "2\n",
      "3\n"
     ]
    }
   ],
   "source": [
    "n=int(input(\"enter how many numbers you want in series\"))\n",
    "first=0;\n",
    "second=1;\n",
    "for i in range(n):\n",
    "    print(first)\n",
    "    temp=first\n",
    "    first=second\n",
    "    second=temp+second\n",
    "    "
   ]
  },
  {
   "cell_type": "markdown",
   "id": "32c8566c",
   "metadata": {},
   "source": [
    "## program to check armstrong number or not"
   ]
  },
  {
   "cell_type": "code",
   "execution_count": null,
   "id": "19d2cc17",
   "metadata": {},
   "outputs": [],
   "source": [
    "num=int(input(\"enter a number\"))\n",
    "temp=num\n",
    "cnt=0\n",
    "while temp>0:\n",
    "    cnt=cnt+1\n",
    "    temp=temp//10\n",
    "sum=0\n",
    "temp=num\n",
    "while temp>0:\n",
    "    rem=temp%10\n",
    "    sum=sum+pow(rem,cnt)\n",
    "    temp=temp//10\n",
    "if num==sum:\n",
    "    print(\"The number\",num,\"is an armstrong number\")\n",
    "else:\n",
    "    print(\"The number\",num,\"is not an armstrong number\")"
   ]
  },
  {
   "cell_type": "markdown",
   "id": "0d51a18f",
   "metadata": {},
   "source": [
    "## program to print the pyramid "
   ]
  },
  {
   "cell_type": "code",
   "execution_count": 13,
   "id": "28a9124c",
   "metadata": {},
   "outputs": [
    {
     "name": "stdout",
     "output_type": "stream",
     "text": [
      "Enter the number of rows you want5\n",
      "    * \n",
      "   * * \n",
      "  * * * \n",
      " * * * * \n",
      "* * * * * \n"
     ]
    }
   ],
   "source": [
    "num=int(input(\"Enter the number of rows you want\"))\n",
    "for i in range(num):\n",
    "    for j in range(num-i-1):\n",
    "        print(\" \",end=\"\")\n",
    "    for j in range(i+1):\n",
    "        print(\"*\",end=\" \")\n",
    "    print()    "
   ]
  },
  {
   "cell_type": "markdown",
   "id": "4b66d5dc",
   "metadata": {},
   "source": [
    "## program to check strong number or not"
   ]
  },
  {
   "cell_type": "code",
   "execution_count": null,
   "id": "cf8b0422",
   "metadata": {},
   "outputs": [],
   "source": [
    "n=int(input(\"Enter the number\"))\n",
    "s=0\n",
    "num=n\n",
    "while(n>0):\n",
    "    digit=n%10\n",
    "    fact=1\n",
    "for i in range(1,digit+1):\n",
    "    fact=fact*1\n",
    "s = s+fact\n",
    "n = n//10\n",
    "if(s==num):\n",
    "    print(\"strong number\")\n",
    "else:\n",
    "    print(\"not a strong number\")\n",
    "        "
   ]
  },
  {
   "cell_type": "markdown",
   "id": "1bfbfaf2",
   "metadata": {},
   "source": [
    "## program to check perfect number or not"
   ]
  },
  {
   "cell_type": "code",
   "execution_count": 42,
   "id": "078806bd",
   "metadata": {},
   "outputs": [
    {
     "name": "stdout",
     "output_type": "stream",
     "text": [
      "enter the number6\n",
      "6 is perfect number\n"
     ]
    }
   ],
   "source": [
    "num=int(input(\"enter the number\"))\n",
    "result=0\n",
    "for i in range(1,num):\n",
    "    if(num%i)==0:\n",
    "        result=result+i\n",
    "if result==num:\n",
    "    print(num,\"is perfect number\")\n",
    "else:\n",
    "    print(num,\"is not perfect number\")\n",
    "        "
   ]
  },
  {
   "cell_type": "markdown",
   "id": "a847af02",
   "metadata": {},
   "source": [
    "## program to check number is palindrome or not"
   ]
  },
  {
   "cell_type": "code",
   "execution_count": 54,
   "id": "9974119a",
   "metadata": {},
   "outputs": [
    {
     "name": "stdout",
     "output_type": "stream",
     "text": [
      "enter a number131\n",
      "yes its a palindrome\n"
     ]
    }
   ],
   "source": [
    "num=str(input(\"enter a number\"))\n",
    "if num == num[ : :-1]:\n",
    "     print(\"yes its a palindrome\")\n",
    "else:\n",
    "     print(\"No,its not a palindrome\")\n",
    "\n",
    "     "
   ]
  },
  {
   "cell_type": "markdown",
   "id": "f3605cb1",
   "metadata": {},
   "source": [
    "## program to find the factors of a number"
   ]
  },
  {
   "cell_type": "code",
   "execution_count": 66,
   "id": "4cd60137",
   "metadata": {},
   "outputs": [
    {
     "name": "stdout",
     "output_type": "stream",
     "text": [
      "enter the number6\n",
      "1\n",
      "2\n",
      "3\n",
      "6\n"
     ]
    }
   ],
   "source": [
    "num=int(input(\"enter the number\"))\n",
    "for i in range(1,num+1):\n",
    "    if num%i==0:\n",
    "        print(i)\n",
    "    "
   ]
  },
  {
   "cell_type": "code",
   "execution_count": null,
   "id": "3a7346b6",
   "metadata": {},
   "outputs": [],
   "source": []
  },
  {
   "cell_type": "code",
   "execution_count": null,
   "id": "e61e158f",
   "metadata": {},
   "outputs": [],
   "source": []
  }
 ],
 "metadata": {
  "kernelspec": {
   "display_name": "Python 3 (ipykernel)",
   "language": "python",
   "name": "python3"
  },
  "language_info": {
   "codemirror_mode": {
    "name": "ipython",
    "version": 3
   },
   "file_extension": ".py",
   "mimetype": "text/x-python",
   "name": "python",
   "nbconvert_exporter": "python",
   "pygments_lexer": "ipython3",
   "version": "3.9.7"
  }
 },
 "nbformat": 4,
 "nbformat_minor": 5
}
