{
 "cells": [
  {
   "cell_type": "markdown",
   "id": "f8df3655",
   "metadata": {},
   "source": [
    "## write a simple python class named student and display its type.Also,display the __dic__ attribute keys and the value of the __module__ attribute of the student class."
   ]
  },
  {
   "cell_type": "code",
   "execution_count": 3,
   "id": "ed050768",
   "metadata": {},
   "outputs": [
    {
     "name": "stdout",
     "output_type": "stream",
     "text": [
      "<class 'type'>\n",
      "dict_keys(['__module__', '__dict__', '__weakref__', '__doc__'])\n",
      "__main__\n"
     ]
    }
   ],
   "source": [
    "class student:\n",
    "    print(type(student))\n",
    "    print(student.__dict__.keys())\n",
    "    print(student.__module__)"
   ]
  },
  {
   "cell_type": "markdown",
   "id": "fe01ca0c",
   "metadata": {},
   "source": [
    "## Write a python class to convert an integer to a roman numeral"
   ]
  },
  {
   "cell_type": "code",
   "execution_count": null,
   "id": "981bde09",
   "metadata": {},
   "outputs": [],
   "source": [
    "class Roman:\n",
    "    def int_to_Roman(self, num):\n",
    "        self.num=int(input(\"enter the number\"))\n",
    "        lookup = [\n",
    "            (1000, 'M'),\n",
    "            (900, 'CM'),\n",
    "            (500, 'D'),\n",
    "            (400, 'CD'),\n",
    "            (100, 'C'),\n",
    "            (90, 'XC'),\n",
    "            (50, 'L'),\n",
    "            (40, 'XL'),\n",
    "            (10, 'X'),\n",
    "            (9, 'IX'),\n",
    "            (5, 'V'),\n",
    "            (4, 'IV'),\n",
    "            (1, 'I'),\n",
    "        ]\n",
    "        res = ''\n",
    "        for (n, roman) in lookup:\n",
    "            (d, self.num) = divmod(self.num, n)\n",
    "            res += roman * d\n",
    "        return res\n",
    "num=Roman()\n",
    "Roman().int_to_Roman(num)\n",
    "\n"
   ]
  },
  {
   "cell_type": "markdown",
   "id": "491f93e7",
   "metadata": {},
   "source": [
    "## Write a program to convert a roman numeral to an integer"
   ]
  },
  {
   "cell_type": "code",
   "execution_count": 2,
   "id": "bfd381da",
   "metadata": {},
   "outputs": [
    {
     "name": "stdout",
     "output_type": "stream",
     "text": [
      "enter the value MMMM\n",
      "4000\n"
     ]
    }
   ],
   "source": [
    "class py_solution:\n",
    "    def roman_to_int(self, s):\n",
    "        self.s=input(\"enter the value \")\n",
    "        rom_val = {'I': 1, 'V': 5, 'X': 10, 'L': 50, 'C': 100, 'D': 500, 'M': 1000}\n",
    "        int_val = 0\n",
    "        for i in range(len(self.s)):\n",
    "            if i > 0 and rom_val[self.s[i]] > rom_val[self.s[i - 1]]:\n",
    "                int_val += rom_val[self.s[i]] - 2 * rom_val[self.s[i - 1]]\n",
    "            else:\n",
    "                int_val += rom_val[self.s[i]]\n",
    "        print(int_val)\n",
    "    \n",
    "s=py_solution()\n",
    "py_solution().roman_to_int(s)"
   ]
  },
  {
   "cell_type": "markdown",
   "id": "e6aae9b5",
   "metadata": {},
   "source": [
    "## Write a python class to implement pow(x,n)"
   ]
  },
  {
   "cell_type": "code",
   "execution_count": 24,
   "id": "8418471b",
   "metadata": {},
   "outputs": [
    {
     "name": "stdout",
     "output_type": "stream",
     "text": [
      "enter the number 3\n",
      "enter the number 3\n",
      "27\n"
     ]
    }
   ],
   "source": [
    "class power:\n",
    "    def __init__(self,x,n):\n",
    "        self.x=x\n",
    "        self.n=n\n",
    "    def show_power(self):\n",
    "        print(self.x**self.n)\n",
    "        \n",
    "s=power(int(input(\"enter the number \")),int(input(\"enter the number \"))) \n",
    "s.show_power()"
   ]
  },
  {
   "cell_type": "markdown",
   "id": "5c215721",
   "metadata": {},
   "source": [
    "## Write a program to reverse a string word by word"
   ]
  },
  {
   "cell_type": "code",
   "execution_count": 28,
   "id": "069b71a6",
   "metadata": {},
   "outputs": [
    {
     "name": "stdout",
     "output_type": "stream",
     "text": [
      "sayana! am i Hello\n"
     ]
    }
   ],
   "source": [
    "class reverse:\n",
    "    def __init__(self,string):\n",
    "        self.string=string\n",
    "    def show_reverse(self):\n",
    "        a=self.string.split()\n",
    "        a.reverse()\n",
    "        print(' '.join(a))\n",
    "s=reverse(\"Hello i am sayana!\") \n",
    "s.show_reverse()"
   ]
  },
  {
   "cell_type": "code",
   "execution_count": null,
   "id": "008f2c43",
   "metadata": {},
   "outputs": [],
   "source": []
  }
 ],
 "metadata": {
  "kernelspec": {
   "display_name": "Python 3 (ipykernel)",
   "language": "python",
   "name": "python3"
  },
  "language_info": {
   "codemirror_mode": {
    "name": "ipython",
    "version": 3
   },
   "file_extension": ".py",
   "mimetype": "text/x-python",
   "name": "python",
   "nbconvert_exporter": "python",
   "pygments_lexer": "ipython3",
   "version": "3.9.7"
  }
 },
 "nbformat": 4,
 "nbformat_minor": 5
}
