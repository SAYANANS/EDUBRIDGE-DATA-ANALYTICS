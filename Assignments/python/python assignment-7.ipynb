{
 "cells": [
  {
   "cell_type": "markdown",
   "id": "758b53a6",
   "metadata": {},
   "source": [
    "## first character in string"
   ]
  },
  {
   "cell_type": "code",
   "execution_count": 1,
   "id": "610203f6",
   "metadata": {},
   "outputs": [
    {
     "name": "stdout",
     "output_type": "stream",
     "text": [
      "h\n"
     ]
    }
   ],
   "source": [
    "s=\"hello sayana\"\n",
    "print(s[0])"
   ]
  },
  {
   "cell_type": "markdown",
   "id": "0dd49b4e",
   "metadata": {},
   "source": [
    "## Last character in string using len function"
   ]
  },
  {
   "cell_type": "code",
   "execution_count": 3,
   "id": "2129ebec",
   "metadata": {},
   "outputs": [
    {
     "name": "stdout",
     "output_type": "stream",
     "text": [
      "g\n"
     ]
    }
   ],
   "source": [
    "s=\"Good Morning\"\n",
    "length=len(s)\n",
    "last_char=s[length -1]\n",
    "print(last_char)"
   ]
  },
  {
   "cell_type": "markdown",
   "id": "eb2ad2b8",
   "metadata": {},
   "source": [
    "## Last character in string"
   ]
  },
  {
   "cell_type": "code",
   "execution_count": 4,
   "id": "37b32c63",
   "metadata": {},
   "outputs": [
    {
     "name": "stdout",
     "output_type": "stream",
     "text": [
      "s\n"
     ]
    }
   ],
   "source": [
    "s=\"congragulations\"\n",
    "print(s[-1])"
   ]
  },
  {
   "cell_type": "markdown",
   "id": "f8cca433",
   "metadata": {},
   "source": [
    "## Fetch the 7th element of the string"
   ]
  },
  {
   "cell_type": "code",
   "execution_count": 5,
   "id": "95a063bd",
   "metadata": {},
   "outputs": [
    {
     "name": "stdout",
     "output_type": "stream",
     "text": [
      "i\n"
     ]
    }
   ],
   "source": [
    "s=\"Best wishes\"\n",
    "print(s[6])"
   ]
  },
  {
   "cell_type": "markdown",
   "id": "c43dd52d",
   "metadata": {},
   "source": [
    "## Fetch all characters from 0 to 5 index location excluding the character at loc 5"
   ]
  },
  {
   "cell_type": "code",
   "execution_count": 9,
   "id": "a72dbe0a",
   "metadata": {},
   "outputs": [
    {
     "name": "stdout",
     "output_type": "stream",
     "text": [
      "Best \n"
     ]
    }
   ],
   "source": [
    "s=\"Best wishes\"\n",
    "print(s[0:5])"
   ]
  },
  {
   "cell_type": "markdown",
   "id": "4c1e0d2d",
   "metadata": {},
   "source": [
    "## Retrieve all characters between 6-12 index location excluding loc 12"
   ]
  },
  {
   "cell_type": "code",
   "execution_count": 10,
   "id": "fe0d0f28",
   "metadata": {},
   "outputs": [
    {
     "name": "stdout",
     "output_type": "stream",
     "text": [
      "e best\n"
     ]
    }
   ],
   "source": [
    "s=\"All the best for your exam\"\n",
    "print(s[6:12])"
   ]
  },
  {
   "cell_type": "markdown",
   "id": "7021c505",
   "metadata": {},
   "source": [
    "## Retrieve last four characters of the string"
   ]
  },
  {
   "cell_type": "code",
   "execution_count": 17,
   "id": "bc317496",
   "metadata": {},
   "outputs": [
    {
     "name": "stdout",
     "output_type": "stream",
     "text": [
      "exam\n"
     ]
    }
   ],
   "source": [
    "s=\"All the best for your exam\"\n",
    "last=s[-4:]\n",
    "print(last)"
   ]
  },
  {
   "cell_type": "markdown",
   "id": "e6ce2c47",
   "metadata": {},
   "source": [
    "## Retrieve last six characters of the string"
   ]
  },
  {
   "cell_type": "code",
   "execution_count": 18,
   "id": "cdef1aae",
   "metadata": {},
   "outputs": [
    {
     "name": "stdout",
     "output_type": "stream",
     "text": [
      "r exam\n"
     ]
    }
   ],
   "source": [
    "s=\"All the best for your exam\"\n",
    "last=s[-6:]\n",
    "print(last)"
   ]
  },
  {
   "cell_type": "markdown",
   "id": "9ca43603",
   "metadata": {},
   "source": [
    "## Retrieve first four characters of the string"
   ]
  },
  {
   "cell_type": "code",
   "execution_count": 1,
   "id": "246d2a68",
   "metadata": {},
   "outputs": [
    {
     "name": "stdout",
     "output_type": "stream",
     "text": [
      "All \n"
     ]
    }
   ],
   "source": [
    "s=\"All the best for your exam\"\n",
    "first=s[0:4]\n",
    "print(first)"
   ]
  },
  {
   "cell_type": "code",
   "execution_count": null,
   "id": "0f0a235d",
   "metadata": {},
   "outputs": [],
   "source": []
  }
 ],
 "metadata": {
  "kernelspec": {
   "display_name": "Python 3 (ipykernel)",
   "language": "python",
   "name": "python3"
  },
  "language_info": {
   "codemirror_mode": {
    "name": "ipython",
    "version": 3
   },
   "file_extension": ".py",
   "mimetype": "text/x-python",
   "name": "python",
   "nbconvert_exporter": "python",
   "pygments_lexer": "ipython3",
   "version": "3.9.7"
  }
 },
 "nbformat": 4,
 "nbformat_minor": 5
}
