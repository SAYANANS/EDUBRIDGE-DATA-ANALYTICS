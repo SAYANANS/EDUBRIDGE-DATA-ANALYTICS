{
 "cells": [
  {
   "cell_type": "markdown",
   "id": "1076b63b",
   "metadata": {},
   "source": [
    "## Write a function to find the Max of three numbers."
   ]
  },
  {
   "cell_type": "code",
   "execution_count": 3,
   "id": "d0c1fa73",
   "metadata": {},
   "outputs": [
    {
     "name": "stdout",
     "output_type": "stream",
     "text": [
      "Enter the first number5\n",
      "Enter the second number6\n",
      "Enter the third number8\n",
      "8\n"
     ]
    }
   ],
   "source": [
    "def maximum(a,b,c):\n",
    "    if a>=b and a>=c:\n",
    "        print(a)\n",
    "    elif b>=a and b>=c:\n",
    "        print(b)\n",
    "    else:\n",
    "        print(c)\n",
    "        \n",
    "num1=int(input(\"Enter the first number\")) \n",
    "num2=int(input(\"Enter the second number\")) \n",
    "num3=int(input(\"Enter the third number\")) \n",
    "maximum(num1,num2,num3)\n",
    "\n",
    "    "
   ]
  },
  {
   "cell_type": "markdown",
   "id": "adf9ee8d",
   "metadata": {},
   "source": [
    "## Write a function to sum all the numbers in a list"
   ]
  },
  {
   "cell_type": "code",
   "execution_count": 39,
   "id": "f5f2ea47",
   "metadata": {},
   "outputs": [
    {
     "data": {
      "text/plain": [
       "21"
      ]
     },
     "execution_count": 39,
     "metadata": {},
     "output_type": "execute_result"
    }
   ],
   "source": [
    "def sum1(list):\n",
    "    return sum(list)\n",
    "list=[6,7,8]\n",
    "sum1(list)\n",
    "    "
   ]
  },
  {
   "cell_type": "markdown",
   "id": "0a374048",
   "metadata": {},
   "source": [
    "## Write a function to multiply all the numbers in a list"
   ]
  },
  {
   "cell_type": "code",
   "execution_count": 37,
   "id": "f1e457b4",
   "metadata": {},
   "outputs": [
    {
     "name": "stdout",
     "output_type": "stream",
     "text": [
      "24\n"
     ]
    }
   ],
   "source": [
    "def mul(list):\n",
    "    result=1\n",
    "    for i in list:\n",
    "        result=result*i\n",
    "    print(result)\n",
    "\n",
    "list=[2,3,4]\n",
    "mul(list)\n",
    "        \n",
    "        \n",
    "        "
   ]
  },
  {
   "cell_type": "markdown",
   "id": "11944045",
   "metadata": {},
   "source": [
    "## Write a function to reverse a string"
   ]
  },
  {
   "cell_type": "code",
   "execution_count": 16,
   "id": "4d74d8ff",
   "metadata": {},
   "outputs": [
    {
     "name": "stdout",
     "output_type": "stream",
     "text": [
      "Enter a string\n",
      "sayana\n",
      "anayas\n"
     ]
    }
   ],
   "source": [
    "def rev(s):\n",
    "    print(s[: :-1])\n",
    "string=input(\"Enter a string\\n\") \n",
    "rev(string)"
   ]
  },
  {
   "cell_type": "markdown",
   "id": "be3d9e25",
   "metadata": {},
   "source": [
    "## Write a function to calculate the factorial of a number"
   ]
  },
  {
   "cell_type": "code",
   "execution_count": 20,
   "id": "f1b7710b",
   "metadata": {},
   "outputs": [
    {
     "name": "stdout",
     "output_type": "stream",
     "text": [
      "enter the number\n",
      "5\n",
      "The factorial of this number is  120\n"
     ]
    }
   ],
   "source": [
    "def fact(num):\n",
    "    f=1\n",
    "    i=1\n",
    "    while i<=num:\n",
    "        f=f*i\n",
    "        i=i+1\n",
    "    return f\n",
    "num=int(input(\"enter the number\\n\"))\n",
    "result=fact(num)\n",
    "print(\"The factorial of this number is \",result)"
   ]
  },
  {
   "cell_type": "markdown",
   "id": "a51322ff",
   "metadata": {},
   "source": [
    "## Write a function that accepts a string and calculate the number of upper case letters and lower case letters "
   ]
  },
  {
   "cell_type": "code",
   "execution_count": 26,
   "id": "be9115f4",
   "metadata": {},
   "outputs": [
    {
     "name": "stdout",
     "output_type": "stream",
     "text": [
      "enter the stringSAYana\n",
      "3\n",
      "3\n"
     ]
    }
   ],
   "source": [
    "def stri(s):\n",
    "    lower,upper=0,0\n",
    "    for i in s:\n",
    "        if(i.islower()):\n",
    "            lower=lower+1\n",
    "        elif(i.isupper()):\n",
    "            upper=upper+1\n",
    "    print(lower)\n",
    "    print(upper)\n",
    "si=input(\"enter the string\")\n",
    "stri(si)"
   ]
  },
  {
   "cell_type": "markdown",
   "id": "6becf2d5",
   "metadata": {},
   "source": [
    "## Write a function that takes a list and returns a new list with unique elements of the first list"
   ]
  },
  {
   "cell_type": "code",
   "execution_count": 33,
   "id": "8de7191e",
   "metadata": {},
   "outputs": [
    {
     "name": "stdout",
     "output_type": "stream",
     "text": [
      "The unique values of the list is\n",
      "[10, 20, 40, 50, 60]\n"
     ]
    }
   ],
   "source": [
    "def unique(list):\n",
    "    unique_list=[]\n",
    "    for i in list:\n",
    "        if i not in unique_list:\n",
    "            unique_list.append(i)\n",
    "    print(unique_list) \n",
    "    \n",
    "list=[10,10,20,40,50,50,60]\n",
    "print(\"The unique values of the list is\")\n",
    "unique(list)\n",
    "\n",
    "            "
   ]
  },
  {
   "cell_type": "code",
   "execution_count": null,
   "id": "db83ce0d",
   "metadata": {},
   "outputs": [],
   "source": []
  }
 ],
 "metadata": {
  "kernelspec": {
   "display_name": "Python 3 (ipykernel)",
   "language": "python",
   "name": "python3"
  },
  "language_info": {
   "codemirror_mode": {
    "name": "ipython",
    "version": 3
   },
   "file_extension": ".py",
   "mimetype": "text/x-python",
   "name": "python",
   "nbconvert_exporter": "python",
   "pygments_lexer": "ipython3",
   "version": "3.9.7"
  }
 },
 "nbformat": 4,
 "nbformat_minor": 5
}
