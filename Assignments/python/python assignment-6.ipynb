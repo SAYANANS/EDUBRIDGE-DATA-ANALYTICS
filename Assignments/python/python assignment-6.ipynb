{
 "cells": [
  {
   "cell_type": "markdown",
   "id": "b0fa8c6b",
   "metadata": {},
   "source": [
    "## calculate square of all numbers between 0-10 using list comprehensions"
   ]
  },
  {
   "cell_type": "code",
   "execution_count": 5,
   "id": "ff1da31b",
   "metadata": {},
   "outputs": [
    {
     "name": "stdout",
     "output_type": "stream",
     "text": [
      "0\n",
      "1\n",
      "4\n",
      "9\n",
      "16\n",
      "25\n",
      "36\n",
      "49\n",
      "64\n",
      "81\n",
      "100\n"
     ]
    }
   ],
   "source": [
    "n=list[0,1,2,3,4,5,6,7,8,8,10]\n",
    "for i in range(0,10+1):\n",
    "    print(i**2)\n"
   ]
  },
  {
   "cell_type": "markdown",
   "id": "f420b2a5",
   "metadata": {},
   "source": [
    "## Multiply whole list by 10"
   ]
  },
  {
   "cell_type": "code",
   "execution_count": 7,
   "id": "00683107",
   "metadata": {},
   "outputs": [
    {
     "name": "stdout",
     "output_type": "stream",
     "text": [
      "0\n",
      "10\n",
      "20\n",
      "30\n",
      "40\n",
      "50\n",
      "60\n",
      "70\n",
      "80\n",
      "90\n",
      "100\n"
     ]
    }
   ],
   "source": [
    "n=list[0,1,2,3,4,5,6,7,8,8,10]\n",
    "for i in range(0,10+1):\n",
    "    print(i*10)"
   ]
  },
  {
   "cell_type": "markdown",
   "id": "b936e42f",
   "metadata": {},
   "source": [
    "## Extract numbers from a string using list comprehension"
   ]
  },
  {
   "cell_type": "code",
   "execution_count": 13,
   "id": "c564683f",
   "metadata": {},
   "outputs": [
    {
     "name": "stdout",
     "output_type": "stream",
     "text": [
      "[21, 14]\n"
     ]
    }
   ],
   "source": [
    "string=\"My age is 21 and my sisters age is 14\"\n",
    "s=[int(s) for s in str.split(string) if s.isdigit()]\n",
    "print(s)\n"
   ]
  },
  {
   "cell_type": "markdown",
   "id": "5891fda7",
   "metadata": {},
   "source": [
    "## Write a program to remove the duplicate element of the list"
   ]
  },
  {
   "cell_type": "code",
   "execution_count": 14,
   "id": "38fdc481",
   "metadata": {},
   "outputs": [
    {
     "name": "stdout",
     "output_type": "stream",
     "text": [
      "[2, 4, 5, 10, 20]\n"
     ]
    }
   ],
   "source": [
    "duplicate=[2,4,10,20,5,2,20,4]\n",
    "print(list(set(duplicate)))"
   ]
  },
  {
   "cell_type": "markdown",
   "id": "e4daf41b",
   "metadata": {},
   "source": [
    "## Write a program to find the sum of the element in the list"
   ]
  },
  {
   "cell_type": "code",
   "execution_count": 21,
   "id": "0dbe9900",
   "metadata": {},
   "outputs": [
    {
     "name": "stdout",
     "output_type": "stream",
     "text": [
      "37\n"
     ]
    }
   ],
   "source": [
    "l=[2,3,4,5,6,7,10]\n",
    "sum=0\n",
    "for i in range(0,len(l)):\n",
    "    sum=sum+l[i]\n",
    "print(sum)"
   ]
  },
  {
   "cell_type": "markdown",
   "id": "290bd0da",
   "metadata": {},
   "source": [
    "## program to find the lists consist of at least one common element"
   ]
  },
  {
   "cell_type": "code",
   "execution_count": 35,
   "id": "bf695b37",
   "metadata": {},
   "outputs": [
    {
     "name": "stdout",
     "output_type": "stream",
     "text": [
      "Given list of lists : \n",
      " [['Mon', 3, 'Tue', 7, 'Wed', 4], ['Thu', 5, 'Fri', 11, 'Tue', 7], ['Wed', 9, 'Tue', 7, 'Wed', 6]]\n",
      "The common elements among inners lists :  ['Tue', 7]\n"
     ]
    }
   ],
   "source": [
    "listA = [['Mon', 3, 'Tue', 7,'Wed',4],['Thu', 5,'Fri',11,'Tue', 7],['Wed', 9, 'Tue', 7,'Wed',6]]\n",
    "print(\"Given list of lists : \\n\",listA)\n",
    "res = list(set.intersection(*map(set, listA)))\n",
    "print(\"The common elements among inners lists : \",res)\n"
   ]
  },
  {
   "cell_type": "code",
   "execution_count": null,
   "id": "15ca4e52",
   "metadata": {},
   "outputs": [],
   "source": []
  }
 ],
 "metadata": {
  "kernelspec": {
   "display_name": "Python 3 (ipykernel)",
   "language": "python",
   "name": "python3"
  },
  "language_info": {
   "codemirror_mode": {
    "name": "ipython",
    "version": 3
   },
   "file_extension": ".py",
   "mimetype": "text/x-python",
   "name": "python",
   "nbconvert_exporter": "python",
   "pygments_lexer": "ipython3",
   "version": "3.9.7"
  }
 },
 "nbformat": 4,
 "nbformat_minor": 5
}
