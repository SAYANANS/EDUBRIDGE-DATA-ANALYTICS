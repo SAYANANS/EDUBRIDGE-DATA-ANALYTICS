{
 "cells": [
  {
   "cell_type": "markdown",
   "id": "1a40ee34",
   "metadata": {},
   "source": [
    "## program to find sum of two numbers\n",
    "num1=int(input(\"enter the value of num1\\n\"))\n",
    "num2=int(input(\"enter the value of num2\\n\"))\n",
    "sum=num1+num2\n",
    "print(\"sum is\",sum)"
   ]
  },
  {
   "cell_type": "markdown",
   "id": "dcb7f139",
   "metadata": {},
   "source": [
    "## program to find difference of two numbers"
   ]
  },
  {
   "cell_type": "code",
   "execution_count": 4,
   "id": "52eba201",
   "metadata": {},
   "outputs": [
    {
     "name": "stdout",
     "output_type": "stream",
     "text": [
      "enter the value of x\n",
      "10\n",
      "enter the value of y\n",
      "7\n",
      "difference is 3\n"
     ]
    }
   ],
   "source": [
    "x=int(input(\"enter the value of x\\n\"))\n",
    "y=int(input(\"enter the value of y\\n\"))\n",
    "diff=x-y\n",
    "print(\"difference is\",diff)"
   ]
  },
  {
   "cell_type": "markdown",
   "id": "c78d3f2c",
   "metadata": {},
   "source": [
    "## program to find multiplication,division,remainder"
   ]
  },
  {
   "cell_type": "code",
   "execution_count": 4,
   "id": "4094d227",
   "metadata": {},
   "outputs": [
    {
     "name": "stdout",
     "output_type": "stream",
     "text": [
      "enter the value of x\n",
      "5\n",
      "enter the value of y\n",
      "5\n",
      "25   1.0   0\n"
     ]
    }
   ],
   "source": [
    "a=int(input(\"enter the value of x\\n\"))\n",
    "b=int(input(\"enter the value of y\\n\"))\n",
    "m=a*b\n",
    "d=a/b\n",
    "r=a%b\n",
    "print(m,\" \",d,\" \",r)"
   ]
  },
  {
   "cell_type": "markdown",
   "id": "72bedb94",
   "metadata": {},
   "source": [
    "## program to find simple interest"
   ]
  },
  {
   "cell_type": "code",
   "execution_count": 5,
   "id": "29a06612",
   "metadata": {},
   "outputs": [
    {
     "name": "stdout",
     "output_type": "stream",
     "text": [
      "enter the principle amount\n",
      "1000\n",
      "enter the rate of interest\n",
      "5\n",
      "enter the time period\n",
      "1\n",
      "50.0\n"
     ]
    }
   ],
   "source": [
    "x=int(input(\"enter the principle amount\\n\"))\n",
    "y=int(input(\"enter the rate of interest\\n\"))\n",
    "z=int(input(\"enter the time period\\n\"))\n",
    "si=(x*y*z)/100\n",
    "print(si)"
   ]
  },
  {
   "cell_type": "markdown",
   "id": "83926dde",
   "metadata": {},
   "source": [
    "## swapping using third variable"
   ]
  },
  {
   "cell_type": "code",
   "execution_count": 12,
   "id": "b9cd9296",
   "metadata": {},
   "outputs": [
    {
     "name": "stdout",
     "output_type": "stream",
     "text": [
      "enter the first value\n",
      "10\n",
      "enter the second value\n",
      "20\n",
      "20 10\n"
     ]
    }
   ],
   "source": [
    "x=int(input(\"enter the first value\\n\"))\n",
    "y=int(input(\"enter the second value\\n\"))\n",
    "temp=x\n",
    "x=y\n",
    "y=temp\n",
    "print(x,y)"
   ]
  },
  {
   "cell_type": "markdown",
   "id": "11d440af",
   "metadata": {},
   "source": [
    "## swapping without using third variable"
   ]
  },
  {
   "cell_type": "code",
   "execution_count": 13,
   "id": "71cee41b",
   "metadata": {},
   "outputs": [
    {
     "name": "stdout",
     "output_type": "stream",
     "text": [
      "enter the number\n",
      "30\n",
      "enter the number\n",
      "40\n",
      "40 30\n"
     ]
    }
   ],
   "source": [
    "x=int(input(\"enter the number\\n\"))\n",
    "y=int(input(\"enter the number\\n\"))\n",
    "x=x+y\n",
    "y=x-y\n",
    "x=x-y\n",
    "print(x,y)"
   ]
  },
  {
   "cell_type": "markdown",
   "id": "8235b834",
   "metadata": {},
   "source": [
    "## average of three numbers"
   ]
  },
  {
   "cell_type": "code",
   "execution_count": 16,
   "id": "4601ba6a",
   "metadata": {},
   "outputs": [
    {
     "name": "stdout",
     "output_type": "stream",
     "text": [
      "enter first number\n",
      "40\n",
      "enter second number\n",
      "45\n",
      "enter second number\n",
      "50\n",
      "45.0\n"
     ]
    }
   ],
   "source": [
    "x=int(input(\"enter first number\\n\"))\n",
    "y=int(input(\"enter second number\\n\"))\n",
    "z=int(input(\"enter second number\\n\"))\n",
    "avg=(x+y+z)/3\n",
    "print(avg)"
   ]
  },
  {
   "cell_type": "markdown",
   "id": "3dd8bbd6",
   "metadata": {},
   "source": [
    "## area and perimeter of rectangle"
   ]
  },
  {
   "cell_type": "code",
   "execution_count": 21,
   "id": "bdc16f9b",
   "metadata": {},
   "outputs": [
    {
     "name": "stdout",
     "output_type": "stream",
     "text": [
      "enter the length of rectangle\n",
      "6\n",
      "enter the breadth of rectangle\n",
      "3\n",
      "perimeter 18\n",
      "area 18\n"
     ]
    }
   ],
   "source": [
    "x=int(input(\"enter the length of rectangle\\n\" ))\n",
    "y=int(input(\"enter the breadth of rectangle\\n\"))\n",
    "peri=2*(x+y)\n",
    "area=x*y\n",
    "print(\"perimeter\" ,peri)\n",
    "print(\"area\" ,area)"
   ]
  },
  {
   "cell_type": "markdown",
   "id": "4479200c",
   "metadata": {},
   "source": [
    "## salary of an empoyee,hr-10%  da-5%"
   ]
  },
  {
   "cell_type": "code",
   "execution_count": 1,
   "id": "c7393cab",
   "metadata": {},
   "outputs": [
    {
     "name": "stdout",
     "output_type": "stream",
     "text": [
      "enter the basic salary1000\n",
      "1150.0\n"
     ]
    }
   ],
   "source": [
    "num=int(input(\"enter the basic salary\"))\n",
    "hr=num*10/100\n",
    "da=num*5/100\n",
    "salary=num+hr+da\n",
    "print(salary)"
   ]
  },
  {
   "cell_type": "code",
   "execution_count": null,
   "id": "bc3544a2",
   "metadata": {},
   "outputs": [],
   "source": []
  }
 ],
 "metadata": {
  "kernelspec": {
   "display_name": "Python 3 (ipykernel)",
   "language": "python",
   "name": "python3"
  },
  "language_info": {
   "codemirror_mode": {
    "name": "ipython",
    "version": 3
   },
   "file_extension": ".py",
   "mimetype": "text/x-python",
   "name": "python",
   "nbconvert_exporter": "python",
   "pygments_lexer": "ipython3",
   "version": "3.9.7"
  }
 },
 "nbformat": 4,
 "nbformat_minor": 5
}
